{
 "cells": [
  {
   "cell_type": "code",
   "execution_count": null,
   "metadata": {},
   "outputs": [
    {
     "name": "stdout",
     "output_type": "stream",
     "text": [
      "Message to send: \n",
      "Hello\n",
      "Sending message: Hello\n",
      "\n",
      "Waiting to receive message...\n"
     ]
    }
   ],
   "source": [
    "import socket\n",
    "\n",
    "class Node:\n",
    "    server_address = None\n",
    "    port = 0\n",
    "    sock = None\n",
    "    \n",
    "    def __init__(self, address='localhost', port=5005):\n",
    "        self.server_address = (address, port)\n",
    "        self.sock = socket.socket(socket.AF_INET, socket.SOCK_DGRAM)\n",
    "        \n",
    "    def send(self, message):\n",
    "        encoded_msg = message.encode('utf-8')\n",
    "        print('Sending message: {}'.format(message))\n",
    "        \n",
    "        sent = self.sock.sendto(encoded_msg, self.server_address)\n",
    "        '''except:\n",
    "            print('Failed.')'''\n",
    "            \n",
    "    def receive(self):        \n",
    "        print('\\nWaiting to receive message...')\n",
    "        \n",
    "        try:\n",
    "            data, address = self.sock.recvfrom(4096)\n",
    "            message = data.decode('utf-8')\n",
    "            \n",
    "            print('\\nReceived {} bytes from {}'.format(len(data), address))\n",
    "            print('Message recceived: {}'.format(message))\n",
    "            \n",
    "        except:\n",
    "            print('Error')\n",
    "            \n",
    "    def shutdown(self):\n",
    "        print('Closing socket...')\n",
    "        try:\n",
    "            self.sock.close()\n",
    "        except:\n",
    "            print('Couldn\\'t close socket.' )\n",
    "        \n",
    "    def restart(self):\n",
    "        self.sock = socket.socket(socket.AF_INET, socket.SOCK_DGRAM)\n",
    "\n",
    "if __name__ == '__main__':\n",
    "    client = Node()\n",
    "    \n",
    "    while True:\n",
    "        print('Message to send: ')\n",
    "        user_input = input()  \n",
    "        \n",
    "        client.send(user_input)\n",
    "        client.receive()\n",
    "    \n",
    "    "
   ]
  },
  {
   "cell_type": "code",
   "execution_count": null,
   "metadata": {},
   "outputs": [],
   "source": []
  }
 ],
 "metadata": {
  "kernelspec": {
   "display_name": "Python 3",
   "language": "python",
   "name": "python3"
  },
  "language_info": {
   "codemirror_mode": {
    "name": "ipython",
    "version": 3
   },
   "file_extension": ".py",
   "mimetype": "text/x-python",
   "name": "python",
   "nbconvert_exporter": "python",
   "pygments_lexer": "ipython3",
   "version": "3.6.7"
  }
 },
 "nbformat": 4,
 "nbformat_minor": 2
}
