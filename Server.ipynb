{
 "cells": [
  {
   "cell_type": "code",
   "execution_count": null,
   "metadata": {},
   "outputs": [
    {
     "name": "stdout",
     "output_type": "stream",
     "text": [
      "Starting server at localhost on port 5005\n",
      "Message received from 127.0.0.1:52295\n"
     ]
    },
    {
     "name": "stderr",
     "output_type": "stream",
     "text": [
      "Unhandled exception in thread started by <bound method Server.client_thread of <__main__.Server object at 0x7fbdfc4b02b0>>\n"
     ]
    },
    {
     "ename": "NameError",
     "evalue": "name 'conn' is not defined",
     "output_type": "error",
     "traceback": [
      "\u001b[0;31m---------------------------------------------------------------------------\u001b[0m",
      "\u001b[0;31mNameError\u001b[0m                                 Traceback (most recent call last)",
      "\u001b[0;32m<ipython-input-1-0a6d53f62783>\u001b[0m in \u001b[0;36mclient_thread\u001b[0;34m(self, data)\u001b[0m\n\u001b[1;32m     18\u001b[0m                 \u001b[0;32mbreak\u001b[0m\u001b[0;34m\u001b[0m\u001b[0;34m\u001b[0m\u001b[0m\n\u001b[1;32m     19\u001b[0m \u001b[0;34m\u001b[0m\u001b[0m\n\u001b[0;32m---> 20\u001b[0;31m             \u001b[0mconn\u001b[0m\u001b[0;34m.\u001b[0m\u001b[0msendall\u001b[0m\u001b[0;34m(\u001b[0m\u001b[0mreply\u001b[0m\u001b[0;34m.\u001b[0m\u001b[0mencode\u001b[0m\u001b[0;34m(\u001b[0m\u001b[0;34m)\u001b[0m\u001b[0;34m)\u001b[0m\u001b[0;34m\u001b[0m\u001b[0;34m\u001b[0m\u001b[0m\n\u001b[0m\u001b[1;32m     21\u001b[0m \u001b[0;34m\u001b[0m\u001b[0m\n\u001b[1;32m     22\u001b[0m         \u001b[0mconn\u001b[0m\u001b[0;34m.\u001b[0m\u001b[0mclose\u001b[0m\u001b[0;34m(\u001b[0m\u001b[0;34m)\u001b[0m\u001b[0;34m\u001b[0m\u001b[0;34m\u001b[0m\u001b[0m\n",
      "\u001b[0;31mNameError\u001b[0m: name 'conn' is not defined"
     ]
    }
   ],
   "source": [
    "import socket\n",
    "from _thread import *\n",
    "\n",
    "class Server:\n",
    "    address = ''\n",
    "    port = 0\n",
    "    \n",
    "    def __init__(self, address='localhost', port=5005):\n",
    "        self.address = address\n",
    "        self.port = port\n",
    "        \n",
    "    def client_thread(self, data):\n",
    "        # Waits to receive message from a connection\n",
    "        while True:\n",
    "            reply = 'OK. '\n",
    "\n",
    "            if not data:\n",
    "                break\n",
    "\n",
    "            conn.sendall(reply.encode())\n",
    "\n",
    "        conn.close()\n",
    "\n",
    "    def run(self):\n",
    "        # Create UDP socket and bind to address\n",
    "        print('Starting server at {} on port {}'.format(self.address, self.port))\n",
    "        sock = socket.socket(socket.AF_INET, socket.SOCK_DGRAM)\n",
    "        sock.setsockopt(socket.SOL_SOCKET, socket.SO_REUSEADDR, 1)\n",
    "        sock.bind((self.address, self.port))\n",
    "        \n",
    "        while True:\n",
    "            # Listening for transmissions...\n",
    "            data, addr = sock.recvfrom(4096)\n",
    "            print('Message received from {}:{}'.format(addr[0], str(addr[1])))\n",
    "            \n",
    "            start_new_thread(self.client_thread, (data,))\n",
    "\n",
    "if __name__ == '__main__':\n",
    "    server = Server()\n",
    "    server.run()\n"
   ]
  },
  {
   "cell_type": "code",
   "execution_count": null,
   "metadata": {},
   "outputs": [],
   "source": []
  }
 ],
 "metadata": {
  "kernelspec": {
   "display_name": "Python 3",
   "language": "python",
   "name": "python3"
  },
  "language_info": {
   "codemirror_mode": {
    "name": "ipython",
    "version": 3
   },
   "file_extension": ".py",
   "mimetype": "text/x-python",
   "name": "python",
   "nbconvert_exporter": "python",
   "pygments_lexer": "ipython3",
   "version": "3.6.7"
  }
 },
 "nbformat": 4,
 "nbformat_minor": 2
}
